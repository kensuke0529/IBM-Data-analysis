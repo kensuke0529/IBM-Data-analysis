{
 "cells": [
  {
   "cell_type": "markdown",
   "id": "c88c45b3-067b-453c-9b69-ab9e6e4771a5",
   "metadata": {},
   "source": [
    "# What is text analysis?\n",
    "Text analysis, also known as text mining or text analytics, refers to the process of extracting meaningful information and insights from textual data.\n"
   ]
  },
  {
   "cell_type": "markdown",
   "id": "76d9c6f9-b644-4548-b252-ca60d1a80704",
   "metadata": {},
   "source": [
    "## Objectives\n",
    " \n",
    "After completing this lab, you will be able to:\n",
    "- Use Python commands to perform text analysis.\n",
    "- Convert the text to lowercase and then find and count the frequency of all unique words, as well as a specified word.\n"
   ]
  },
  {
   "cell_type": "markdown",
   "id": "e7eae69d-100c-4a2b-9ef4-d8cd374f30f4",
   "metadata": {},
   "source": [
    "## Setup\n"
   ]
  },
  {
   "cell_type": "markdown",
   "id": "09897ead-5c53-454a-a629-2364fe21b660",
   "metadata": {},
   "source": [
    "For this lab, you will be using the following data types:\n",
    "* List\n",
    "* Strings\n",
    "* Classes and objects\n"
   ]
  },
  {
   "cell_type": "markdown",
   "id": "02a68e0c-1681-4008-999d-8f7e0a0d8552",
   "metadata": {},
   "source": [
    "**Let's consider a real-life scenario where you are analyzing customer feedback for a product. You have a large data set of customer reviews in the form of strings, and you want to extract useful information from them using the three identified tasks:**\n",
    "\n",
    "**Task 1. String in lowercase:**\n",
    "You want to pre-process the customer feedback by converting all the text to lowercase. This step helps standardize the text. Lower casing the text allows you to focus on the content rather than the specific letter casing.\n",
    "\n",
    "**Task 2. Frequency of all words in a given string:**\n",
    "After converting the text to lowercase, you want to determine the frequency of each word in the customer feedback. This information will help you identify which words are used more frequently, indicating the key aspects or topics that customers are mentioning in their reviews. By analyzing the word frequencies, you can gain insights into the most common issues raised by customers.\n",
    "\n",
    "**Task 3. Frequency of a specific word:**\n",
    "In addition to analyzing the overall word frequencies, you want to specifically track the frequency of a particular word that is relevant to your analysis. For example, you might be interested in monitoring how often the word \"reliable\" appears in customer reviews to gauge customer sentiment about the product's reliability. By focusing on the frequency of a specific word, you can gain a deeper understanding of customer opinions or preferences related to that particular aspect.\n",
    "\n",
    "By performing these tasks on the customer feedback dataset, you can gain valuable insights into customer sentiment\n"
   ]
  },
  {
   "cell_type": "markdown",
   "id": "e6858fd8-7e1e-4da2-a622-b4e383aa5786",
   "metadata": {},
   "source": [
    "----\n"
   ]
  },
  {
   "cell_type": "markdown",
   "id": "b1699f17-4067-482f-a330-ed910f5c4016",
   "metadata": {},
   "source": [
    "## Step 1: Define a string\n",
    "\"Lorem ipsum dolor! diam amet, consetetur Lorem magna. sed diam nonumy eirmod tempor. diam et labore? et diam magna. et diam amet.\" <br>\n",
    "**Hint: Use a variable and store the above string.**\n"
   ]
  },
  {
   "cell_type": "code",
   "execution_count": 42,
   "id": "86daf516-2dff-4857-89a5-664d204699b6",
   "metadata": {},
   "outputs": [],
   "source": [
    "#Press Shift+Enter to run the code\n",
    "givenstring=\"Lorem ipsum dolor! diam amet, consetetur Lorem magna. sed diam nonumy eirmod tempor. diam et labore? et diam magna. et diam amet.\""
   ]
  },
  {
   "cell_type": "markdown",
   "id": "764dd9a8-3f46-40dc-a840-ee981fcc4892",
   "metadata": {},
   "source": [
    "## Step 2: Define the class and its attributes\n"
   ]
  },
  {
   "cell_type": "markdown",
   "id": "5f5a1a3f-62b4-41e7-97ee-747970540ee8",
   "metadata": {},
   "source": [
    "1. Create a class named TextAnalyzer.\n",
    "2. Define the constructor `__init__` method that takes a text argument.\n"
   ]
  },
  {
   "cell_type": "markdown",
   "id": "af799e37-bd45-40f1-aff9-399f139b78e2",
   "metadata": {},
   "source": [
    "## Step 3: Implement a code to format the text in lowercase\n"
   ]
  },
  {
   "cell_type": "markdown",
   "id": "259536ee-b385-4baf-9971-0e5cbd12e53d",
   "metadata": {},
   "source": [
    "1. Inside the constructor, convert the text argument to lowercase using the `lower()` method.\n",
    "2. Then, remove punctuation marks (periods, exclamation marks, commas, and question marks) from the text using the `replace()` method.\n",
    "3. Finally, assign the formatted text to a new attribute called fmtText.\n",
    "\n",
    "**Here you will be updating the above `TextAnalyzer` class with the points mentioned above.**\n"
   ]
  },
  {
   "cell_type": "markdown",
   "id": "20bcbe5a-f8c1-4d87-b902-31721dd89d5d",
   "metadata": {},
   "source": [
    "## Step 4: Implement a code to count the frequency of all unique words\n"
   ]
  },
  {
   "cell_type": "markdown",
   "id": "a8b40436-17e2-47f3-9392-c97663ac3fcb",
   "metadata": {},
   "source": [
    "* In this step, you will implement the `freqAll()` method with the below parameters:\n",
    "     1. Split the fmtText attribute into individual words using the `split()` method.\n",
    "     2. Create an empty dictionary to store the word frequency.\n",
    "     3. Iterate over the list of words and update the frequency dictionary accordingly.\n",
    "     4. Use `count` method for counting the occurence.\n",
    "     5. Return the frequency dictionary.\n",
    "     \n",
    "**Update the above `TextAnalyzer` class with points mentioned above.**\n"
   ]
  },
  {
   "cell_type": "markdown",
   "id": "fdd4c618-efff-4e61-a453-6b9314506e65",
   "metadata": {},
   "source": [
    "<details><summary>Click here for solution</summary>\n",
    "\n",
    "```python\n",
    "class TextAnalyzer(object):\n",
    "    \n",
    "    def __init__ (self, text):\n",
    "        # remove punctuation\n",
    "        formattedText = text.replace('.','').replace('!','').replace('?','').replace(',','')\n",
    "        \n",
    "        # make text lowercase\n",
    "        formattedText = formattedText.lower()\n",
    "        \n",
    "        self.fmtText = formattedText\n",
    "        \n",
    "    def freqAll(self):        \n",
    "        # split text into words\n",
    "        wordList = self.fmtText.split(' ')\n",
    "        \n",
    "        # Create dictionary\n",
    "        freqMap = {}\n",
    "        for word in set(wordList): # use set to remove duplicates in list\n",
    "            freqMap[word] = wordList.count(word)\n",
    "        \n",
    "        return freqMap\n",
    "```\n",
    "    \n",
    "</details>\n"
   ]
  },
  {
   "cell_type": "markdown",
   "id": "11308cf9-4175-4b43-ad89-9312227dd6b9",
   "metadata": {},
   "source": [
    "## Step 5: Implement a code to count the frequency of a specific word\n"
   ]
  },
  {
   "cell_type": "markdown",
   "id": "d873fd5c-b71a-45fa-8001-7d8dea9dcd2f",
   "metadata": {},
   "source": [
    "In step-5, you have to implement the `freqOf(word)` method that takes a word argument:\n",
    "   1. Create a method and pass the word that needs to be found.\n",
    "   2. Get the `freqAll` method to look for count and check if that word is in the list.\n",
    "   3. Return the count. If the word is not found, the count returned is 0.\n",
    "   \n",
    "**Update the above `TextAnalyzer` class with the points mentioned above.**\n"
   ]
  },
  {
   "cell_type": "code",
   "execution_count": 43,
   "id": "295cd664-870e-486d-a86e-383c53c8a157",
   "metadata": {},
   "outputs": [],
   "source": [
    "#Press shift+Enter to run the code\n",
    "class TextAnalyzer(object):\n",
    "    \n",
    "    def __init__ (self, text):\n",
    "        clean_text = text.replace('!','').replace('.','').replace('?','').replace(',','')\n",
    "        self.text_low = clean_text.lower()\n",
    "                \n",
    "    def freqAll(self):        \n",
    "        # split text into words\n",
    "        words = self.text_low.split(' ')\n",
    "        # Create dictionary\n",
    "        dict = {}\n",
    "        for word in set(words):\n",
    "            dict[word] = words.count(word)\n",
    "        return dict\n",
    "           \n",
    "    def freqOf(self,word):\n",
    "        # get frequency map\n",
    "        freq_dict = self.freqAll()\n",
    "        if word in freq_dict:\n",
    "            return freq_dict[word]\n",
    "        else: \n",
    "            return 0 \n",
    "            "
   ]
  },
  {
   "cell_type": "markdown",
   "id": "b198684b-b544-4422-8017-ddd5c7ccc6a1",
   "metadata": {},
   "source": [
    "<details><summary>Click here for solution</summary>\n",
    "\n",
    "```python\n",
    "class TextAnalyzer(object):\n",
    "    \n",
    "    def __init__ (self, text):\n",
    "        # remove punctuation\n",
    "        formattedText = text.replace('.','').replace('!','').replace('?','').replace(',','')\n",
    "        \n",
    "        # make text lowercase\n",
    "        formattedText = formattedText.lower()\n",
    "        \n",
    "        self.fmtText = formattedText\n",
    "        \n",
    "    def freqAll(self):        \n",
    "        # split text into words\n",
    "        wordList = self.fmtText.split(' ')\n",
    "        \n",
    "        # Create dictionary\n",
    "        freqMap = {}\n",
    "        for word in set(wordList): # use set to remove duplicates in list\n",
    "            freqMap[word] = wordList.count(word)\n",
    "        \n",
    "        return freqMap\n",
    "    \n",
    "    def freqOf(self,word):\n",
    "        # get frequency map\n",
    "        freqDict = self.freqAll()\n",
    "        \n",
    "        if word in freqDict:\n",
    "            return freqDict[word]\n",
    "        else:\n",
    "            return 0\n",
    "```\n",
    "</details>\n"
   ]
  },
  {
   "cell_type": "markdown",
   "id": "8d9e92fc-4c3e-4786-b97e-8f88a9647ff2",
   "metadata": {},
   "source": [
    "## Step 1: Create an instance of TextAnalyzer class\n",
    "* Instantiate the TextAnalyzer class by passing the given string as an argument.\n"
   ]
  },
  {
   "cell_type": "code",
   "execution_count": 44,
   "id": "81be2ba1-375f-4085-981a-031a8956555d",
   "metadata": {},
   "outputs": [],
   "source": [
    "# type your code here\n",
    "analyzed = TextAnalyzer(givenstring)"
   ]
  },
  {
   "cell_type": "markdown",
   "id": "597d5221-0c0d-4e4d-b356-a32c3a19f784",
   "metadata": {},
   "source": [
    "## Step 2: Call the function that converts the data into lowercase\n"
   ]
  },
  {
   "cell_type": "code",
   "execution_count": 45,
   "id": "ef509b43-82e0-4134-a1e3-486bac5aa1df",
   "metadata": {},
   "outputs": [
    {
     "name": "stdout",
     "output_type": "stream",
     "text": [
      "lorem ipsum dolor diam amet consetetur lorem magna sed diam nonumy eirmod tempor diam et labore et diam magna et diam amet\n"
     ]
    }
   ],
   "source": [
    "# Press Shift+Enter to run the code.\n",
    "print(analyzed.text_low)"
   ]
  },
  {
   "cell_type": "markdown",
   "id": "53f5b668-b0d7-4a13-866f-019b83f5f927",
   "metadata": {},
   "source": [
    "## Step 3: Call the function that counts the frequency of all unique words from the data\n"
   ]
  },
  {
   "cell_type": "code",
   "execution_count": 46,
   "id": "dde2c5fe-493b-47ca-82c0-976da6a2d28a",
   "metadata": {},
   "outputs": [
    {
     "name": "stdout",
     "output_type": "stream",
     "text": [
      "{'magna': 2, 'tempor': 1, 'ipsum': 1, 'lorem': 2, 'et': 3, 'labore': 1, 'consetetur': 1, 'diam': 5, 'dolor': 1, 'amet': 2, 'sed': 1, 'nonumy': 1, 'eirmod': 1}\n"
     ]
    }
   ],
   "source": [
    "# Press Shift+Enter to run the code.\n",
    "print(analyzed.freqAll())"
   ]
  },
  {
   "cell_type": "markdown",
   "id": "49606b25-ef60-473e-ba3d-1026af719495",
   "metadata": {},
   "source": [
    "## Step 4: Call the function that counts the frequency of a specific word\n",
    "Here, you will call the function that counts the frequency of the word \"lorem\".\n",
    "<br>\n",
    "\n",
    "Print the output.**\n"
   ]
  },
  {
   "cell_type": "code",
   "execution_count": 48,
   "id": "a08cdc03-64f4-43e6-87b3-8222f8ea3afa",
   "metadata": {},
   "outputs": [
    {
     "data": {
      "text/plain": [
       "2"
      ]
     },
     "execution_count": 48,
     "metadata": {},
     "output_type": "execute_result"
    }
   ],
   "source": [
    "# type your code here\n",
    "analyzed.freqOf('lorem')"
   ]
  }
 ],
 "metadata": {
  "kernelspec": {
   "display_name": "base",
   "language": "python",
   "name": "python3"
  },
  "language_info": {
   "codemirror_mode": {
    "name": "ipython",
    "version": 3
   },
   "file_extension": ".py",
   "mimetype": "text/x-python",
   "name": "python",
   "nbconvert_exporter": "python",
   "pygments_lexer": "ipython3",
   "version": "3.12.7"
  }
 },
 "nbformat": 4,
 "nbformat_minor": 4
}
